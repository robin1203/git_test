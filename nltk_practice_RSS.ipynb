{
 "cells": [
  {
   "cell_type": "code",
   "execution_count": 8,
   "source": [
    "#codecademy.com\n",
    "#http://www.nltk.org/book/ch03.html\n",
    "\n",
    "import nltk, re, pprint\n",
    "from nltk import word_tokenize\n",
    "from urllib import request\n",
    "from bs4 import BeautifulSoup\n",
    "\n",
    "import feedparser\n",
    "\n",
    "llog = feedparser.parse(\"http://languagelog.ldc.upenn.edu/nll/?feed=atom\")"
   ],
   "outputs": [],
   "metadata": {}
  },
  {
   "cell_type": "code",
   "execution_count": 7,
   "source": [
    "print(llog['feed']['title'])\n",
    "print(len(llog.entries))\n",
    "\n",
    "post = llog.entries[2]\n",
    "print(post.title)\n",
    "\n",
    "content = post.content[0].value\n",
    "print(content[:70])\n",
    "\n",
    "#noises!"
   ],
   "outputs": [
    {
     "output_type": "stream",
     "name": "stdout",
     "text": [
      "Language Log\n",
      "13\n",
      "Gender fluidity in the classroom\n",
      "<p>Recent article on gender and language teaching:</p>\n",
      "<p style=\"paddi\n"
     ]
    }
   ],
   "metadata": {}
  },
  {
   "cell_type": "code",
   "execution_count": null,
   "source": [
    "raw = BeautifulSoup(content, 'html.parser').get_text()\n",
    "word_tokenize(raw)"
   ],
   "outputs": [],
   "metadata": {}
  }
 ],
 "metadata": {
  "orig_nbformat": 4,
  "language_info": {
   "name": "python",
   "version": "3.8.11",
   "mimetype": "text/x-python",
   "codemirror_mode": {
    "name": "ipython",
    "version": 3
   },
   "pygments_lexer": "ipython3",
   "nbconvert_exporter": "python",
   "file_extension": ".py"
  },
  "kernelspec": {
   "name": "python3",
   "display_name": "Python 3.8.11 64-bit ('aloe': conda)"
  },
  "interpreter": {
   "hash": "c4fba2b83a964a91bcaeabf6fd897a31391e4a1f5571952d48c889e7b1e7720a"
  }
 },
 "nbformat": 4,
 "nbformat_minor": 2
}