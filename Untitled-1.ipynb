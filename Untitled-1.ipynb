{
 "cells": [
  {
   "cell_type": "code",
   "execution_count": 1,
   "source": [
    "import nltk, re, pprint\r\n",
    "from nltk import word_tokenize"
   ],
   "outputs": [],
   "metadata": {}
  },
  {
   "cell_type": "code",
   "execution_count": 4,
   "source": [
    "from urllib import request\r\n",
    "url = \"http://www.gutenberg.org/files/2554/2554-0.txt\"\r\n",
    "\r\n",
    "response = request.urlopen(url)\r\n",
    "raw = response.read().decode('utf8')\r\n",
    "type(raw)\r\n",
    "len(raw)\r\n",
    "raw[:75]\r\n"
   ],
   "outputs": [
    {
     "output_type": "execute_result",
     "data": {
      "text/plain": [
       "'\\ufeffThe Project Gutenberg eBook of Crime and Punishment, by Fyodor Dostoevsky\\r'"
      ]
     },
     "metadata": {},
     "execution_count": 4
    }
   ],
   "metadata": {}
  }
 ],
 "metadata": {
  "orig_nbformat": 4,
  "language_info": {
   "name": "python",
   "version": "3.8.11",
   "mimetype": "text/x-python",
   "codemirror_mode": {
    "name": "ipython",
    "version": 3
   },
   "pygments_lexer": "ipython3",
   "nbconvert_exporter": "python",
   "file_extension": ".py"
  },
  "kernelspec": {
   "name": "python3",
   "display_name": "Python 3.8.11 64-bit ('nlp': conda)"
  },
  "interpreter": {
   "hash": "52e46f9a91f7b8a929e4c30af4d7b22cee2c7268f32ffb7bbcd9a09418dc7a2b"
  }
 },
 "nbformat": 4,
 "nbformat_minor": 2
}