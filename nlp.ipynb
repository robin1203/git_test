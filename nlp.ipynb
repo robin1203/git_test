{
 "cells": [
  {
   "cell_type": "code",
   "execution_count": 2,
   "source": [
    "import warnings\r\n",
    "warnings.simplefilter(\"ignore\")\r\n",
    "\r\n",
    "import konlpy\r\n",
    "konlpy.__version__"
   ],
   "outputs": [
    {
     "output_type": "execute_result",
     "data": {
      "text/plain": [
       "'0.5.2'"
      ]
     },
     "metadata": {},
     "execution_count": 2
    }
   ],
   "metadata": {}
  },
  {
   "cell_type": "code",
   "execution_count": 3,
   "source": [
    "from konlpy.corpus import kolaw\r\n",
    "kolaw.fileids()\r\n",
    "\r\n",
    "c = kolaw.open('constitution.txt').read()\r\n",
    "print(c[:40])\r\n",
    "\r\n",
    "\r\n",
    "from konlpy.corpus import kobill\r\n",
    "kobill.fileids()\r\n",
    "\r\n",
    "d = kobill.open('1809890.txt').read()\r\n",
    "print(d[:40])"
   ],
   "outputs": [
    {
     "output_type": "stream",
     "name": "stdout",
     "text": [
      "대한민국헌법\n",
      "\n",
      "유구한 역사와 전통에 빛나는 우리 대한국민은 3·1운동으로\n",
      "지방공무원법 일부개정법률안\n",
      "\n",
      "(정의화의원 대표발의 )\n",
      "\n",
      " 의 안\n",
      " 번 호\n"
     ]
    }
   ],
   "metadata": {}
  },
  {
   "cell_type": "code",
   "execution_count": 4,
   "source": [
    "from konlpy.tag import *\r\n",
    "\r\n",
    "hannanum = Hannanum()\r\n",
    "kkma = Kkma()\r\n",
    "okt = Okt()"
   ],
   "outputs": [],
   "metadata": {}
  },
  {
   "cell_type": "code",
   "execution_count": 5,
   "source": [
    "sample = c[:40]\r\n",
    "\r\n",
    "#명사 추출\r\n",
    "print(hannanum.nouns(sample))\r\n",
    "print(kkma.nouns(sample))\r\n",
    "print(okt.nouns(sample)) "
   ],
   "outputs": [
    {
     "output_type": "stream",
     "name": "stdout",
     "text": [
      "['대한민국헌법', '유구', '역사', '전통', '빛', '우리', '대한국민', '3·1운동']\n",
      "['대한', '대한민국', '대한민국헌법', '민국', '헌법', '유구', '역사', '전통', '우리', '국민', '3', '1', '1운동', '운동']\n",
      "['대한민국', '헌법', '유구', '역사', '전통', '우리', '국민', '운동']\n"
     ]
    }
   ],
   "metadata": {}
  },
  {
   "cell_type": "code",
   "execution_count": null,
   "source": [],
   "outputs": [],
   "metadata": {}
  }
 ],
 "metadata": {
  "orig_nbformat": 4,
  "language_info": {
   "name": "python",
   "version": "3.8.11",
   "mimetype": "text/x-python",
   "codemirror_mode": {
    "name": "ipython",
    "version": 3
   },
   "pygments_lexer": "ipython3",
   "nbconvert_exporter": "python",
   "file_extension": ".py"
  },
  "kernelspec": {
   "name": "python3",
   "display_name": "Python 3.8.11 64-bit ('nlp': conda)"
  },
  "interpreter": {
   "hash": "52e46f9a91f7b8a929e4c30af4d7b22cee2c7268f32ffb7bbcd9a09418dc7a2b"
  }
 },
 "nbformat": 4,
 "nbformat_minor": 2
}