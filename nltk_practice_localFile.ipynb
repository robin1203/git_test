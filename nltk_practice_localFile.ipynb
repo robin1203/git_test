{
 "cells": [
  {
   "cell_type": "code",
   "execution_count": 5,
   "source": [
    "f = open('lorem.txt')\n",
    "raw = f.read()\n",
    "\n",
    "print(raw)"
   ],
   "outputs": [
    {
     "output_type": "stream",
     "name": "stdout",
     "text": [
      "Incididunt cupidatat id pariatur voluptate et. Tempor esse consequat dolor aliqua consectetur ea irure cupidatat aute. Deserunt eiusmod qui mollit id. Esse nulla nulla do aliquip mollit cupidatat adipisicing.\n"
     ]
    }
   ],
   "metadata": {}
  },
  {
   "cell_type": "code",
   "execution_count": 2,
   "source": [
    "import os\n",
    "os.listdir('.')"
   ],
   "outputs": [
    {
     "output_type": "execute_result",
     "data": {
      "text/plain": [
       "['.DS_Store',\n",
       " 'nltk_practice_gutenberg.ipynb',\n",
       " 'R',\n",
       " 'nltk_practice_RSS.ipynb',\n",
       " 'nltk_practice_localFile.ipynb',\n",
       " 'README.md',\n",
       " 'lorem.txt',\n",
       " '.ipynb_checkpoints',\n",
       " '.git',\n",
       " 'nltk_practice_bbc.ipynb',\n",
       " 'nlp_korean.ipynb']"
      ]
     },
     "metadata": {},
     "execution_count": 2
    }
   ],
   "metadata": {}
  },
  {
   "cell_type": "code",
   "execution_count": 6,
   "source": [
    "f = open('lorem.txt', 'rU')\n",
    "for line in f:\n",
    "    print(line.strip())"
   ],
   "outputs": [
    {
     "output_type": "stream",
     "name": "stdout",
     "text": [
      "Incididunt cupidatat id pariatur voluptate et. Tempor esse consequat dolor aliqua consectetur ea irure cupidatat aute. Deserunt eiusmod qui mollit id. Esse nulla nulla do aliquip mollit cupidatat adipisicing.\n"
     ]
    },
    {
     "output_type": "stream",
     "name": "stderr",
     "text": [
      "/var/folders/t9/nmnmnzc16m90gpmw33kswn9r0000gn/T/ipykernel_20767/62128781.py:1: DeprecationWarning: 'U' mode is deprecated\n",
      "  f = open('lorem.txt', 'rU')\n"
     ]
    }
   ],
   "metadata": {}
  }
 ],
 "metadata": {
  "orig_nbformat": 4,
  "language_info": {
   "name": "python",
   "version": "3.8.11",
   "mimetype": "text/x-python",
   "codemirror_mode": {
    "name": "ipython",
    "version": 3
   },
   "pygments_lexer": "ipython3",
   "nbconvert_exporter": "python",
   "file_extension": ".py"
  },
  "kernelspec": {
   "name": "python3",
   "display_name": "Python 3.8.11 64-bit ('aloe': conda)"
  },
  "interpreter": {
   "hash": "c4fba2b83a964a91bcaeabf6fd897a31391e4a1f5571952d48c889e7b1e7720a"
  }
 },
 "nbformat": 4,
 "nbformat_minor": 2
}