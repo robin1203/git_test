{
 "cells": [
  {
   "cell_type": "code",
   "execution_count": 5,
   "source": [
    "#codecademy.com\n",
    "#http://www.nltk.org/book/ch03.html\n",
    "\n",
    "import re, nltk\n",
    "#nltk.download('words')\n",
    "#nltk.download('treebank')\n",
    "\n",
    "wordlist = [w for w in nltk.corpus.words.words('en') if w.islower()]\n",
    "print(wordlist[:10])\n"
   ],
   "outputs": [
    {
     "output_type": "stream",
     "name": "stdout",
     "text": [
      "['a', 'aa', 'aal', 'aalii', 'aam', 'aardvark', 'aardwolf', 'aba', 'abac', 'abaca']\n"
     ]
    }
   ],
   "metadata": {}
  },
  {
   "cell_type": "code",
   "execution_count": 12,
   "source": [
    "print([w for w in wordlist if re.search('ed$', w)][:10]) #search finished with 'ed'\n",
    "print([w for w in wordlist if re.search('^..j..t..$', w)])"
   ],
   "outputs": [
    {
     "output_type": "stream",
     "name": "stdout",
     "text": [
      "['abaissed', 'abandoned', 'abased', 'abashed', 'abatised', 'abed', 'aborted', 'abridged', 'abscessed', 'absconded']\n",
      "['abjectly', 'adjuster', 'dejected', 'dejectly', 'injector', 'majestic', 'objectee', 'objector', 'rejecter', 'rejector', 'unjilted', 'unjolted', 'unjustly']\n"
     ]
    }
   ],
   "metadata": {}
  },
  {
   "cell_type": "code",
   "execution_count": 20,
   "source": [
    "wsj = sorted(set(nltk.corpus.treebank.words()))\n",
    "#print([w for w in wsj if re.search('^[0-9]+\\.[0-9]+$', w)]) #all real numbers\n",
    "print([w for w in wsj if re.search('^[A-Z]+\\$$', w)]) #all "
   ],
   "outputs": [
    {
     "output_type": "stream",
     "name": "stdout",
     "text": [
      "['C$', 'US$']\n"
     ]
    }
   ],
   "metadata": {}
  }
 ],
 "metadata": {
  "orig_nbformat": 4,
  "language_info": {
   "name": "python",
   "version": "3.8.11",
   "mimetype": "text/x-python",
   "codemirror_mode": {
    "name": "ipython",
    "version": 3
   },
   "pygments_lexer": "ipython3",
   "nbconvert_exporter": "python",
   "file_extension": ".py"
  },
  "kernelspec": {
   "name": "python3",
   "display_name": "Python 3.8.11 64-bit ('aloe': conda)"
  },
  "interpreter": {
   "hash": "c4fba2b83a964a91bcaeabf6fd897a31391e4a1f5571952d48c889e7b1e7720a"
  }
 },
 "nbformat": 4,
 "nbformat_minor": 2
}